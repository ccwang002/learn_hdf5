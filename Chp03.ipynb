{
 "metadata": {
  "name": "",
  "signature": "sha256:d461ba382f114f955784a24943474b602ec5a96f0089998c33ed623e595d3c74"
 },
 "nbformat": 3,
 "nbformat_minor": 0,
 "worksheets": [
  {
   "cells": [
    {
     "cell_type": "code",
     "collapsed": false,
     "input": [
      "import numpy as np\n",
      "import h5py"
     ],
     "language": "python",
     "metadata": {},
     "outputs": [],
     "prompt_number": 1
    },
    {
     "cell_type": "code",
     "collapsed": false,
     "input": [
      "f = h5py.File(\"testfile.hdf5\", \"w\")"
     ],
     "language": "python",
     "metadata": {},
     "outputs": [],
     "prompt_number": 2
    },
    {
     "cell_type": "markdown",
     "metadata": {},
     "source": [
      "### Empty Datasets"
     ]
    },
    {
     "cell_type": "code",
     "collapsed": false,
     "input": [
      "dset = f.create_dataset(\"test1\", (10, 10), dtype=np.float64)"
     ],
     "language": "python",
     "metadata": {},
     "outputs": [],
     "prompt_number": 3
    },
    {
     "cell_type": "code",
     "collapsed": false,
     "input": [
      "# large empty dataset\n",
      "dset = f.create_dataset(\n",
      "    \"big dataset\", (512,100), dtype=np.float32, compression='gzip')"
     ],
     "language": "python",
     "metadata": {},
     "outputs": [],
     "prompt_number": 4
    },
    {
     "cell_type": "markdown",
     "metadata": {},
     "source": [
      "### Broadcasting"
     ]
    },
    {
     "cell_type": "code",
     "collapsed": false,
     "input": [
      "f['test1'][:] = np.arange(100).reshape(10, 10)"
     ],
     "language": "python",
     "metadata": {},
     "outputs": [],
     "prompt_number": 5
    },
    {
     "cell_type": "code",
     "collapsed": false,
     "input": [
      "f['test1'][:, :]"
     ],
     "language": "python",
     "metadata": {},
     "outputs": [
      {
       "metadata": {},
       "output_type": "pyout",
       "prompt_number": 6,
       "text": [
        "array([[  0.,   1.,   2.,   3.,   4.,   5.,   6.,   7.,   8.,   9.],\n",
        "       [ 10.,  11.,  12.,  13.,  14.,  15.,  16.,  17.,  18.,  19.],\n",
        "       [ 20.,  21.,  22.,  23.,  24.,  25.,  26.,  27.,  28.,  29.],\n",
        "       [ 30.,  31.,  32.,  33.,  34.,  35.,  36.,  37.,  38.,  39.],\n",
        "       [ 40.,  41.,  42.,  43.,  44.,  45.,  46.,  47.,  48.,  49.],\n",
        "       [ 50.,  51.,  52.,  53.,  54.,  55.,  56.,  57.,  58.,  59.],\n",
        "       [ 60.,  61.,  62.,  63.,  64.,  65.,  66.,  67.,  68.,  69.],\n",
        "       [ 70.,  71.,  72.,  73.,  74.,  75.,  76.,  77.,  78.,  79.],\n",
        "       [ 80.,  81.,  82.,  83.,  84.,  85.,  86.,  87.,  88.,  89.],\n",
        "       [ 90.,  91.,  92.,  93.,  94.,  95.,  96.,  97.,  98.,  99.]])"
       ]
      }
     ],
     "prompt_number": 6
    },
    {
     "cell_type": "code",
     "collapsed": false,
     "input": [
      "dset.shape"
     ],
     "language": "python",
     "metadata": {},
     "outputs": [
      {
       "metadata": {},
       "output_type": "pyout",
       "prompt_number": 7,
       "text": [
        "(512, 100)"
       ]
      }
     ],
     "prompt_number": 7
    },
    {
     "cell_type": "code",
     "collapsed": false,
     "input": [
      "dset[0, :] = np.random.random(100)"
     ],
     "language": "python",
     "metadata": {},
     "outputs": [],
     "prompt_number": 8
    },
    {
     "cell_type": "code",
     "collapsed": false,
     "input": [
      "dset[0, :10]"
     ],
     "language": "python",
     "metadata": {},
     "outputs": [
      {
       "metadata": {},
       "output_type": "pyout",
       "prompt_number": 9,
       "text": [
        "array([ 0.95688015,  0.17003688,  0.14401032,  0.88191181,  0.61296308,\n",
        "        0.47351944,  0.72070295,  0.32511824,  0.14635567,  0.14825743], dtype=float32)"
       ]
      }
     ],
     "prompt_number": 9
    },
    {
     "cell_type": "code",
     "collapsed": false,
     "input": [
      "# broadcasting\n",
      "# (1024, 100)  = (100,) repeat 1024 times\n",
      "dset[:, :] = dset[0, :]"
     ],
     "language": "python",
     "metadata": {},
     "outputs": [],
     "prompt_number": 10
    },
    {
     "cell_type": "code",
     "collapsed": false,
     "input": [
      "dset[:5, :10]"
     ],
     "language": "python",
     "metadata": {},
     "outputs": [
      {
       "metadata": {},
       "output_type": "pyout",
       "prompt_number": 11,
       "text": [
        "array([[ 0.95688015,  0.17003688,  0.14401032,  0.88191181,  0.61296308,\n",
        "         0.47351944,  0.72070295,  0.32511824,  0.14635567,  0.14825743],\n",
        "       [ 0.95688015,  0.17003688,  0.14401032,  0.88191181,  0.61296308,\n",
        "         0.47351944,  0.72070295,  0.32511824,  0.14635567,  0.14825743],\n",
        "       [ 0.95688015,  0.17003688,  0.14401032,  0.88191181,  0.61296308,\n",
        "         0.47351944,  0.72070295,  0.32511824,  0.14635567,  0.14825743],\n",
        "       [ 0.95688015,  0.17003688,  0.14401032,  0.88191181,  0.61296308,\n",
        "         0.47351944,  0.72070295,  0.32511824,  0.14635567,  0.14825743],\n",
        "       [ 0.95688015,  0.17003688,  0.14401032,  0.88191181,  0.61296308,\n",
        "         0.47351944,  0.72070295,  0.32511824,  0.14635567,  0.14825743]], dtype=float32)"
       ]
      }
     ],
     "prompt_number": 11
    },
    {
     "cell_type": "markdown",
     "metadata": {},
     "source": [
      "### Direct Read"
     ]
    },
    {
     "cell_type": "code",
     "collapsed": false,
     "input": [
      "dset = f['big dataset']\n",
      "dset.dtype, dset.shape"
     ],
     "language": "python",
     "metadata": {},
     "outputs": [
      {
       "metadata": {},
       "output_type": "pyout",
       "prompt_number": 12,
       "text": [
        "(dtype('float32'), (512, 100))"
       ]
      }
     ],
     "prompt_number": 12
    },
    {
     "cell_type": "code",
     "collapsed": false,
     "input": [
      "big_out = np.empty((512, 100), dtype=np.float64)\n",
      "dset.read_direct(big_out)"
     ],
     "language": "python",
     "metadata": {},
     "outputs": [],
     "prompt_number": 14
    },
    {
     "cell_type": "markdown",
     "metadata": {},
     "source": [
      "### Direct read partial data"
     ]
    },
    {
     "cell_type": "code",
     "collapsed": false,
     "input": [
      "part_out = np.empty((11, 80), dtype=np.float64)\n",
      "dset.read_direct(part_out, source_sel=np.s_[:10, :80], dest_sel=np.s_[1:,:])"
     ],
     "language": "python",
     "metadata": {},
     "outputs": [],
     "prompt_number": 15
    },
    {
     "cell_type": "code",
     "collapsed": false,
     "input": [
      "part_out[0, :] = np.random.random(80)"
     ],
     "language": "python",
     "metadata": {},
     "outputs": [],
     "prompt_number": 16
    },
    {
     "cell_type": "code",
     "collapsed": false,
     "input": [
      "part_out[:5, :10]"
     ],
     "language": "python",
     "metadata": {},
     "outputs": [
      {
       "metadata": {},
       "output_type": "pyout",
       "prompt_number": 17,
       "text": [
        "array([[ 0.95159855,  0.97304489,  0.49616412,  0.66567344,  0.02656826,\n",
        "         0.10816271,  0.62089691,  0.89507048,  0.58872695,  0.54904   ],\n",
        "       [ 0.95688015,  0.17003688,  0.14401032,  0.88191181,  0.61296308,\n",
        "         0.47351944,  0.72070295,  0.32511824,  0.14635567,  0.14825743],\n",
        "       [ 0.95688015,  0.17003688,  0.14401032,  0.88191181,  0.61296308,\n",
        "         0.47351944,  0.72070295,  0.32511824,  0.14635567,  0.14825743],\n",
        "       [ 0.95688015,  0.17003688,  0.14401032,  0.88191181,  0.61296308,\n",
        "         0.47351944,  0.72070295,  0.32511824,  0.14635567,  0.14825743],\n",
        "       [ 0.95688015,  0.17003688,  0.14401032,  0.88191181,  0.61296308,\n",
        "         0.47351944,  0.72070295,  0.32511824,  0.14635567,  0.14825743]])"
       ]
      }
     ],
     "prompt_number": 17
    },
    {
     "cell_type": "markdown",
     "metadata": {},
     "source": [
      "### Indexing"
     ]
    },
    {
     "cell_type": "code",
     "collapsed": false,
     "input": [
      "# one axis at a time can be sliced with a list\n",
      "# no repeated elements\n",
      "# indices most be given in increasing order\n",
      "f['test1'][[0, 3, 5], :5]"
     ],
     "language": "python",
     "metadata": {},
     "outputs": [
      {
       "metadata": {},
       "output_type": "pyout",
       "prompt_number": 18,
       "text": [
        "array([[  0.,   1.,   2.,   3.,   4.],\n",
        "       [ 30.,  31.,  32.,  33.,  34.],\n",
        "       [ 50.,  51.,  52.,  53.,  54.]])"
       ]
      }
     ],
     "prompt_number": 18
    },
    {
     "cell_type": "markdown",
     "metadata": {},
     "source": [
      "### Close the file"
     ]
    },
    {
     "cell_type": "code",
     "collapsed": false,
     "input": [
      "f.close()"
     ],
     "language": "python",
     "metadata": {},
     "outputs": [],
     "prompt_number": 19
    },
    {
     "cell_type": "code",
     "collapsed": false,
     "input": [
      "!h5ls -vlr \"./testfile.hdf5\""
     ],
     "language": "python",
     "metadata": {},
     "outputs": [
      {
       "output_type": "stream",
       "stream": "stdout",
       "text": [
        "Opened \"./testfile.hdf5\" with sec2 driver.\r\n",
        "/                        Group\r\n",
        "    Location:  1:96\r\n",
        "    Links:     1\r\n",
        "/big\\ dataset            Dataset {512/512, 100/100}\r\n",
        "    Location:  1:1400\r\n",
        "    Links:     1\r\n",
        "    Chunks:    {128, 25} 12800 bytes\r\n",
        "    Storage:   204800 logical bytes, 3108 allocated bytes, 6589.45% utilization\r\n",
        "    Filter-0:  deflate-1 OPT {4}\r\n",
        "    Type:      native float\r\n",
        "/test1                   Dataset {10/10, 10/10}\r\n",
        "    Location:  1:800\r\n",
        "    Links:     1\r\n",
        "    Storage:   800 logical bytes, 800 allocated bytes, 100.00% utilization\r\n",
        "    Type:      native double\r\n"
       ]
      }
     ],
     "prompt_number": 20
    },
    {
     "cell_type": "code",
     "collapsed": false,
     "input": [],
     "language": "python",
     "metadata": {},
     "outputs": []
    }
   ],
   "metadata": {}
  }
 ]
}
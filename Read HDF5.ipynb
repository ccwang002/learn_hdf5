{
 "metadata": {
  "name": "",
  "signature": "sha256:93fe94605547bf5f3897d1889519c489d91f2e6c6230bfe63fad7c26bc0f5f70"
 },
 "nbformat": 3,
 "nbformat_minor": 0,
 "worksheets": [
  {
   "cells": [
    {
     "cell_type": "code",
     "collapsed": false,
     "input": [
      "import os\n",
      "\n",
      "import numpy as np\n",
      "import h5py"
     ],
     "language": "python",
     "metadata": {},
     "outputs": [],
     "prompt_number": 1
    },
    {
     "cell_type": "code",
     "collapsed": false,
     "input": [
      "f = h5py.File(\"./imagetest.hdf5\", \"r\")"
     ],
     "language": "python",
     "metadata": {},
     "outputs": [],
     "prompt_number": 2
    },
    {
     "cell_type": "code",
     "collapsed": false,
     "input": [
      "if os.name == 'nt':\n",
      "    H5LS_BIN = r'D:\\v-lianwa\\Applications\\HDF5_Utilities\\h5ls'\n",
      "else:\n",
      "    H5LS_BIN = 'h5ls'"
     ],
     "language": "python",
     "metadata": {},
     "outputs": [],
     "prompt_number": 3
    },
    {
     "cell_type": "code",
     "collapsed": false,
     "input": [
      "list(f.keys())"
     ],
     "language": "python",
     "metadata": {},
     "outputs": [
      {
       "metadata": {},
       "output_type": "pyout",
       "prompt_number": 4,
       "text": [
        "['Images']"
       ]
      }
     ],
     "prompt_number": 4
    },
    {
     "cell_type": "code",
     "collapsed": false,
     "input": [
      "dset = f['Images']\n",
      "dset"
     ],
     "language": "python",
     "metadata": {},
     "outputs": [
      {
       "metadata": {},
       "output_type": "pyout",
       "prompt_number": 5,
       "text": [
        "<HDF5 dataset \"Images\": shape (100, 480, 640), type \"|u1\">"
       ]
      }
     ],
     "prompt_number": 5
    },
    {
     "cell_type": "code",
     "collapsed": false,
     "input": [
      "dset[:2, :3, :4]"
     ],
     "language": "python",
     "metadata": {},
     "outputs": [
      {
       "metadata": {},
       "output_type": "pyout",
       "prompt_number": 6,
       "text": [
        "array([[[0, 0, 0, 0],\n",
        "        [0, 0, 0, 0],\n",
        "        [0, 0, 0, 0]],\n",
        "\n",
        "       [[0, 0, 0, 0],\n",
        "        [0, 0, 0, 0],\n",
        "        [0, 0, 0, 0]]], dtype=uint8)"
       ]
      }
     ],
     "prompt_number": 6
    },
    {
     "cell_type": "code",
     "collapsed": false,
     "input": [
      "try:\n",
      "    dset[:2, :3, :4] = 1\n",
      "except OSError as e:\n",
      "    print(\"Cannot write to file in this 'r' mode\")\n",
      "    print(e)"
     ],
     "language": "python",
     "metadata": {},
     "outputs": [
      {
       "output_type": "stream",
       "stream": "stdout",
       "text": [
        "Cannot write to file in this 'r' mode\n",
        "Can't prepare for writing data (No write intent on file)\n"
       ]
      }
     ],
     "prompt_number": 7
    },
    {
     "cell_type": "code",
     "collapsed": false,
     "input": [
      "f.close()"
     ],
     "language": "python",
     "metadata": {},
     "outputs": [],
     "prompt_number": 8
    },
    {
     "cell_type": "code",
     "collapsed": false,
     "input": [
      "!$H5LS_BIN -vlr \"./imagetest.hdf5\""
     ],
     "language": "python",
     "metadata": {},
     "outputs": [
      {
       "output_type": "stream",
       "stream": "stdout",
       "text": [
        "Opened \"./imagetest.hdf5\" with sec2 driver.\n",
        "/                        Group\n",
        "    Location:  1:96\n",
        "    Links:     1\n",
        "/Images                  Dataset {100/100, 480/480, 640/640}\n",
        "    Location:  1:800\n",
        "    Links:     1\n",
        "    Chunks:    {1, 128, 128} 16384 bytes\n",
        "    Storage:   30720000 logical bytes, 0 allocated bytes\n",
        "    Filter-0:  shuffle-2 OPT {1}\n",
        "    Filter-1:  deflate-1 OPT {4}\n",
        "    Type:      native unsigned char\n"
       ]
      }
     ],
     "prompt_number": 9
    }
   ],
   "metadata": {}
  }
 ]
}
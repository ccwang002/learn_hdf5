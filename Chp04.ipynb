{
 "metadata": {
  "name": "",
  "signature": "sha256:1e57c12aef490fdcd56faac04ecd0458525007ce2dcadc864d48292a4240ff64"
 },
 "nbformat": 3,
 "nbformat_minor": 0,
 "worksheets": [
  {
   "cells": [
    {
     "cell_type": "code",
     "collapsed": false,
     "input": [
      "import numpy as np\n",
      "import h5py"
     ],
     "language": "python",
     "metadata": {},
     "outputs": [],
     "prompt_number": 1
    },
    {
     "cell_type": "code",
     "collapsed": false,
     "input": [
      "f = h5py.File(\"imagetest.hdf5\", 'w')"
     ],
     "language": "python",
     "metadata": {},
     "outputs": [],
     "prompt_number": 2
    },
    {
     "cell_type": "code",
     "collapsed": false,
     "input": [
      "dset = f.create_dataset(\n",
      "    \"Images\", (100, 480, 640),\n",
      "    dtype=np.uint8, chunks=(1, 128, 128),\n",
      "    compression=\"gzip\", shuffle=True\n",
      ")"
     ],
     "language": "python",
     "metadata": {},
     "outputs": [],
     "prompt_number": 3
    },
    {
     "cell_type": "markdown",
     "metadata": {},
     "source": [
      "### Generate Random grey images"
     ]
    },
    {
     "cell_type": "code",
     "collapsed": false,
     "input": [
      "dset = np.random.randint(0, 255, size=(100, 480, 640))"
     ],
     "language": "python",
     "metadata": {},
     "outputs": [],
     "prompt_number": 4
    },
    {
     "cell_type": "code",
     "collapsed": false,
     "input": [
      "dset[:2, 0:64, 0:64]"
     ],
     "language": "python",
     "metadata": {},
     "outputs": [
      {
       "metadata": {},
       "output_type": "pyout",
       "prompt_number": 5,
       "text": [
        "array([[[ 48,   3, 227, ...,  98, 239, 237],\n",
        "        [ 53,  94,  29, ..., 235,  29, 106],\n",
        "        [ 24, 246, 114, ...,  34, 240,  42],\n",
        "        ..., \n",
        "        [144, 126, 174, ...,  76, 124, 128],\n",
        "        [214, 229, 138, ..., 109,  62, 234],\n",
        "        [154,  82,  85, ..., 178, 178, 242]],\n",
        "\n",
        "       [[ 79, 237, 105, ..., 208, 115, 132],\n",
        "        [  1,  57, 163, ..., 176,   2,  71],\n",
        "        [ 31, 238, 241, ..., 142,  47, 131],\n",
        "        ..., \n",
        "        [123,  98,  77, ...,  91, 213,  67],\n",
        "        [149,  99,  14, ...,  81,  38, 151],\n",
        "        [185, 207, 148, ..., 174, 238,  62]]])"
       ]
      }
     ],
     "prompt_number": 5
    },
    {
     "cell_type": "code",
     "collapsed": false,
     "input": [
      "tile = dset[0, 0:64, 0:64]\n",
      "tile.shape"
     ],
     "language": "python",
     "metadata": {},
     "outputs": [
      {
       "metadata": {},
       "output_type": "pyout",
       "prompt_number": 6,
       "text": [
        "(64, 64)"
       ]
      }
     ],
     "prompt_number": 6
    },
    {
     "cell_type": "code",
     "collapsed": false,
     "input": [
      "f.close()"
     ],
     "language": "python",
     "metadata": {},
     "outputs": [],
     "prompt_number": 7
    },
    {
     "cell_type": "code",
     "collapsed": false,
     "input": [
      "!h5ls -vls './imagetest.hdf5'"
     ],
     "language": "python",
     "metadata": {},
     "outputs": [
      {
       "output_type": "stream",
       "stream": "stdout",
       "text": [
        "Opened \"./imagetest.hdf5\" with sec2 driver.\r\n",
        "Images                   Dataset {100/100, 480/480, 640/640}\r\n",
        "    Location:  1:800\r\n",
        "    Links:     1\r\n",
        "    Chunks:    {1, 128, 128} 16384 bytes\r\n",
        "    Storage:   30720000 logical bytes, 0 allocated bytes\r\n",
        "    Filter-0:  shuffle-2 OPT {1}\r\n",
        "    Filter-1:  deflate-1 OPT {4}\r\n",
        "    Type:      native unsigned char\r\n"
       ]
      }
     ],
     "prompt_number": 8
    },
    {
     "cell_type": "code",
     "collapsed": false,
     "input": [],
     "language": "python",
     "metadata": {},
     "outputs": []
    }
   ],
   "metadata": {}
  }
 ]
}